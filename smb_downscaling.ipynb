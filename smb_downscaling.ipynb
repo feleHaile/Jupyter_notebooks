{
 "cells": [
  {
   "cell_type": "markdown",
   "metadata": {},
   "source": [
    "# CLM-CISM downscaling, 20 Oct 2016"
   ]
  },
  {
   "cell_type": "markdown",
   "metadata": {},
   "source": [
    "CLM forcing fields (acab or SMB, and temperature) are supplied at a coarse horizontal resolution and at 10 vertical levels or elevation classes.\n",
    "\n",
    "Here I explore some possibilities regarding horizontal and vertical interpolation of these fields to the CISM grid."
   ]
  },
  {
   "cell_type": "code",
   "execution_count": 1,
   "metadata": {
    "collapsed": true
   },
   "outputs": [],
   "source": [
    "%matplotlib inline\n",
    "import numpy as np\n",
    "import matplotlib.pyplot as plt"
   ]
  },
  {
   "cell_type": "markdown",
   "metadata": {},
   "source": [
    "Two cells are selected along the Greenland K-transect"
   ]
  },
  {
   "cell_type": "code",
   "execution_count": 2,
   "metadata": {
    "collapsed": false
   },
   "outputs": [],
   "source": [
    "coords={} # Coordinates (ilat,ilon) of CLM gridcells\n",
    "coords['cellA']=(167,248)\n",
    "coords['cellB']=(167,249)"
   ]
  },
  {
   "cell_type": "markdown",
   "metadata": {},
   "source": [
    "### Some test data"
   ]
  },
  {
   "cell_type": "markdown",
   "metadata": {},
   "source": [
    "Yearly average ablation (AB) and accumulation (AC) are taken from an FG run (casename = cam6clm5_beta07_col_119rest_lwlap) with output at each elevation class.\n",
    "\n",
    "One year averaged data for now, just for testing."
   ]
  },
  {
   "cell_type": "code",
   "execution_count": 18,
   "metadata": {
    "collapsed": true
   },
   "outputs": [],
   "source": [
    "# Elevation class midpoints\n",
    "elev_mec = np.asarray([100, 300, 550, 850, 1150, 1450, 1800, 2250, 2750, 3500])"
   ]
  },
  {
   "cell_type": "code",
   "execution_count": 4,
   "metadata": {
    "collapsed": false
   },
   "outputs": [],
   "source": [
    "ab={}\n",
    "ab['cellA']=np.asarray([  1.04427941e+01 ,  7.75391426e+00 , 5.62771183e+00,   2.39465291e+00,\n",
    "   7.41343991e-01 ,  7.64908130e-02 ,  5.09881154e-02  , 1.36675815e-02,\n",
    "  -1.02899391e-02 , -3.26783274e-02]) * 365 / 1000. # convert from mm/day to m/year\n",
    "ab['cellB']=np.asarray([  1.53967969e+01,   1.20004906e+01,   8.89361040e+00 ,  3.97812184e+00,\n",
    "   1.51039940e+00  , 1.65159715e-01 ,  1.29554068e-01  , 7.93311018e-02,\n",
    "   3.70435832e-02,  -6.42650455e-03]) * 365 / 1000. # convert from mm/day to m/year"
   ]
  },
  {
   "cell_type": "code",
   "execution_count": 5,
   "metadata": {
    "collapsed": true
   },
   "outputs": [],
   "source": [
    "ac={}\n",
    "ac['cellA']=np.asarray([ 0.48337985,  0.62594054,  0.77821437,  0.9810329 ,  1.04418045,  1.12301125,\n",
    "  1.14667178 , 1.15020953 , 1.15020964,  1.15020964]) * 365 / 1000. # convert from mm/day to m/year\n",
    "ac['cellB']=np.asarray([ 0.5283285 ,  0.65806491 , 0.80689576 , 1.01173176 , 1.11583912,  1.19848984,\n",
    "  1.24245121,  1.25205707 , 1.25205707 , 1.25205707]) * 365 / 1000. # convert from mm/day to m/year"
   ]
  },
  {
   "cell_type": "markdown",
   "metadata": {},
   "source": [
    "SMB can be calculated as AB-AC:"
   ]
  },
  {
   "cell_type": "code",
   "execution_count": 6,
   "metadata": {
    "collapsed": false
   },
   "outputs": [],
   "source": [
    "smb = {}\n",
    "smb['cellA'] = ac['cellA']-ab['cellA']\n",
    "smb['cellB'] = ac['cellB']-ab['cellB']"
   ]
  },
  {
   "cell_type": "code",
   "execution_count": 7,
   "metadata": {
    "collapsed": false
   },
   "outputs": [
    {
     "data": {
      "text/plain": [
       "<matplotlib.legend.Legend at 0x10c757310>"
      ]
     },
     "execution_count": 7,
     "metadata": {},
     "output_type": "execute_result"
    },
    {
     "data": {
      "image/png": "[encoded data removed]",
      "text/plain": [
       "<matplotlib.figure.Figure at 0x10a2c6250>"
      ]
     },
     "metadata": {},
     "output_type": "display_data"
    }
   ],
   "source": [
    "plt.plot(elev_mec,smb['cellA'],'bs-',label='cell A')\n",
    "plt.plot(elev_mec,smb['cellB'],'rs-',label='cell B')\n",
    "plt.xlabel('Elevation [m]')\n",
    "plt.title('Surface mass balance')\n",
    "plt.ylabel('SMB [m/yr]')\n",
    "plt.legend(loc='lower right')"
   ]
  },
  {
   "cell_type": "markdown",
   "metadata": {},
   "source": [
    "### Downscaling options"
   ]
  },
  {
   "cell_type": "markdown",
   "metadata": {},
   "source": [
    "Now suppose we would like to downscale SMB to a CISM grid cell *P* which is horizontally located exactly midway between cell A and cell B, with some arbitrary elevation:"
   ]
  },
  {
   "cell_type": "code",
   "execution_count": 29,
   "metadata": {
    "collapsed": true
   },
   "outputs": [],
   "source": [
    "elev_P = 500. #m"
   ]
  },
  {
   "cell_type": "markdown",
   "metadata": {},
   "source": [
    "In reality we would consider bilinear interpolation but in this case we can simplify to a linear interpolation, I think without loss of generality. There are several options how to do the downscaling. "
   ]
  },
  {
   "cell_type": "markdown",
   "metadata": {},
   "source": [
    "#### Method 1: horizontal then vertical\n",
    "\n",
    "Horizontally interpolate SMB at each elevation class, then vertically interpolate to the target elevation. \n",
    "\n",
    "Number of linear interpolations required: 2x10 + 1 = 21"
   ]
  },
  {
   "cell_type": "code",
   "execution_count": 30,
   "metadata": {
    "collapsed": false
   },
   "outputs": [
    {
     "data": {
      "text/plain": [
       "-2.5628565450650003"
      ]
     },
     "execution_count": 30,
     "metadata": {},
     "output_type": "execute_result"
    }
   ],
   "source": [
    "smb_P = {}\n",
    "from scipy.interpolate import interp1d\n",
    "smb_interpolated = 0.5*(smb['cellA']+smb['cellB'])\n",
    "y_interp = interp1d(elev_mec, smb_interpolated)\n",
    "smb_P['method1'] = float(y_interp(elev_P))\n",
    "smb_P['method1']"
   ]
  },
  {
   "cell_type": "markdown",
   "metadata": {},
   "source": [
    "#### Method 2: vertical then horizontal\n",
    "\n",
    "First, vertically interpolate SMB to the target elevation, then do the horizontal interpolation. \n",
    "\n",
    "Number of linear interpolations required: 3"
   ]
  },
  {
   "cell_type": "code",
   "execution_count": 31,
   "metadata": {
    "collapsed": false
   },
   "outputs": [
    {
     "data": {
      "text/plain": [
       "-2.5628565450649998"
      ]
     },
     "execution_count": 31,
     "metadata": {},
     "output_type": "execute_result"
    }
   ],
   "source": [
    "y_interpA = interp1d(elev_mec, smb['cellA'])\n",
    "yA = y_interpA(elev_P)\n",
    "y_interpB = interp1d(elev_mec, smb['cellB'])\n",
    "yB = y_interpB(elev_P)\n",
    "smb_P['method2'] = 0.5*(yA+yB)\n",
    "smb_P['method2']"
   ]
  },
  {
   "cell_type": "markdown",
   "metadata": {},
   "source": [
    "Same answer as with option 1, as we would expect since these are linear operations."
   ]
  },
  {
   "cell_type": "markdown",
   "metadata": {},
   "source": [
    "#### Method 3: regression on AB"
   ]
  },
  {
   "cell_type": "markdown",
   "metadata": {},
   "source": [
    "Consider accumulation and ablation separately. In each CLM grid cell, derive regression parameters a and b for a least-squares regression of ablation with height (this is the method that Noël2016 uses:  http://www.the-cryosphere.net/10/2361/2016/). Then interpolate regression parameters a and b to the target location, call these a_P and b_P. Compute now downscaled ablation as\n",
    "```\n",
    "AB_P = a_P + b_P * elev_P\n",
    "```\n",
    "For accumulation no elevation correction is required, as this field does not always scale the same way with height (?)\n",
    "\n",
    "In the test data, ablation (AB) shows a strong correlation with elevation up to about 1200m, after which it levels out:"
   ]
  },
  {
   "cell_type": "code",
   "execution_count": 32,
   "metadata": {
    "collapsed": false
   },
   "outputs": [
    {
     "data": {
      "text/plain": [
       "<matplotlib.legend.Legend at 0x10fb17b50>"
      ]
     },
     "execution_count": 32,
     "metadata": {},
     "output_type": "execute_result"
    },
    {
     "data": {
      "image/png": "[encoded data removed]",
      "text/plain": [
       "<matplotlib.figure.Figure at 0x10f65d510>"
      ]
     },
     "metadata": {},
     "output_type": "display_data"
    }
   ],
   "source": [
    "plt.plot(elev_mec,ab['cellA'],'bs-',label='cell A')\n",
    "plt.plot(elev_mec,ab['cellB'],'rs-',label='cell B')\n",
    "plt.title('Ablation')\n",
    "plt.xlabel('Elevation [m]')\n",
    "plt.ylabel('ab [m/yr]')\n",
    "plt.legend(loc='lower right')"
   ]
  },
  {
   "cell_type": "markdown",
   "metadata": {},
   "source": [
    "Applying a linear regression on a variable that has two such distinct regimes is tricky. We better separate the two regimes before regression. The ELA (SMB==0) seems like a natural regime divider:"
   ]
  },
  {
   "cell_type": "code",
   "execution_count": 33,
   "metadata": {
    "collapsed": false
   },
   "outputs": [
    {
     "data": {
      "text/plain": [
       "<matplotlib.legend.Legend at 0x10fb25110>"
      ]
     },
     "execution_count": 33,
     "metadata": {},
     "output_type": "execute_result"
    },
    {
     "data": {
      "image/png": "[encoded data removed]",
      "text/plain": [
       "<matplotlib.figure.Figure at 0x10fbe53d0>"
      ]
     },
     "metadata": {},
     "output_type": "display_data"
    }
   ],
   "source": [
    "# Only select points that experience net ablation\n",
    "from scipy.stats import linregress\n",
    "gradient = {}\n",
    "intercept = {}\n",
    "for cell,color in [('cellA','b'),('cellB','r')]:\n",
    "    x_pos_smb = smb[cell] < 0.\n",
    "    gradient[cell], intercept[cell], r_value, p_value, std_err = linregress(elev_mec[x_pos_smb],ab[cell][x_pos_smb])\n",
    "    plt.plot(elev_mec[x_pos_smb],ab[cell][x_pos_smb],color+'s',label=cell)\n",
    "    xx = np.arange(0,1201)\n",
    "    plt.plot(xx,intercept[cell]+gradient[cell]*xx,color+'--')\n",
    "\n",
    "plt.xlabel('Elevation [m]')\n",
    "plt.title('Linear regression')\n",
    "plt.ylabel('ab [m/yr]')\n",
    "plt.legend(loc='upper right')\n"
   ]
  },
  {
   "cell_type": "code",
   "execution_count": 34,
   "metadata": {
    "collapsed": false
   },
   "outputs": [
    {
     "data": {
      "text/plain": [
       "({'cellA': -0.0038208347471587302, 'cellB': -0.0049046200388104672},\n",
       " {'cellA': 4.1118660565964289, 'cellB': 5.9436234201181755})"
      ]
     },
     "execution_count": 34,
     "metadata": {},
     "output_type": "execute_result"
    }
   ],
   "source": [
    "gradient, intercept"
   ]
  },
  {
   "cell_type": "markdown",
   "metadata": {},
   "source": [
    "Accumulation strangely enough also shows a elevation gradient, although each elevation class receives the same amount of precipitation. There is a simple explanation for this, namely the rain repartitioning scheme in CLM was enabled in the experiment that these data derive from. Lower elevation classes generally have higher temperatures so less rain is converted to snow. "
   ]
  },
  {
   "cell_type": "code",
   "execution_count": 35,
   "metadata": {
    "collapsed": false
   },
   "outputs": [
    {
     "data": {
      "text/plain": [
       "<matplotlib.legend.Legend at 0x10fe1c9d0>"
      ]
     },
     "execution_count": 35,
     "metadata": {},
     "output_type": "execute_result"
    },
    {
     "data": {
      "image/png": "[encoded data removed]",
      "text/plain": [
       "<matplotlib.figure.Figure at 0x10fabb1d0>"
      ]
     },
     "metadata": {},
     "output_type": "display_data"
    }
   ],
   "source": [
    "plt.plot(elev_mec,ac['cellA'],'bs-',label='cell A')\n",
    "plt.plot(elev_mec,ac['cellB'],'rs-',label='cell B')\n",
    "plt.xlabel('Elevation [m]')\n",
    "plt.ylabel('ac [m/yr]')\n",
    "plt.title('Accumulation')\n",
    "plt.legend(loc='lower right')"
   ]
  },
  {
   "cell_type": "markdown",
   "metadata": {},
   "source": [
    "SMB at point P is now estimated by interpolating the regression parameters for ablation, and linear interpolation of accumulation."
   ]
  },
  {
   "cell_type": "code",
   "execution_count": 36,
   "metadata": {
    "collapsed": true
   },
   "outputs": [],
   "source": [
    "a_P = 0.5*(intercept['cellA']+intercept['cellB'])\n",
    "b_P = 0.5*(gradient['cellA']+gradient['cellB'])\n",
    "ab_P = a_P + b_P * elev_P"
   ]
  },
  {
   "cell_type": "code",
   "execution_count": 37,
   "metadata": {
    "collapsed": true
   },
   "outputs": [],
   "source": [
    "y_interpA = interp1d(elev_mec, ac['cellA'])\n",
    "yA = y_interpA(elev_P)\n",
    "y_interpB = interp1d(elev_mec, ac['cellB'])\n",
    "yB = y_interpB(elev_P)\n",
    "ac_P=0.5*(yA+yB)"
   ]
  },
  {
   "cell_type": "code",
   "execution_count": 38,
   "metadata": {
    "collapsed": false
   },
   "outputs": [
    {
     "data": {
      "text/plain": [
       "{'method1': -2.5628565450650003,\n",
       " 'method2': -2.5628565450649998,\n",
       " 'method3': -2.5680887639600036}"
      ]
     },
     "execution_count": 38,
     "metadata": {},
     "output_type": "execute_result"
    }
   ],
   "source": [
    "smb_P['method3'] = ac_P - ab_P\n",
    "smb_P"
   ]
  },
  {
   "cell_type": "code",
   "execution_count": null,
   "metadata": {
    "collapsed": true
   },
   "outputs": [],
   "source": []
  }
 ],
 "metadata": {
  "kernelspec": {
   "display_name": "Python 2",
   "language": "python",
   "name": "python2"
  },
  "language_info": {
   "codemirror_mode": {
    "name": "ipython",
    "version": 2
   },
   "file_extension": ".py",
   "mimetype": "text/x-python",
   "name": "python",
   "nbconvert_exporter": "python",
   "pygments_lexer": "ipython2",
   "version": "2.7.12"
  }
 },
 "nbformat": 4,
 "nbformat_minor": 0
}
