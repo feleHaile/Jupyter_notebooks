{
 "cells": [
  {
   "cell_type": "code",
   "execution_count": 24,
   "metadata": {},
   "outputs": [],
   "source": [
    "import numpy as np\n",
    "import rasterio\n",
    "from affine import Affine\n",
    "from pyproj import Proj, transform\n",
    "import matplotlib.pyplot as plt\n",
    "import cartopy.crs as ccrs\n",
    "import xarray as xr\n",
    "\n",
    "%matplotlib inline\n",
    "#%matplotlib notebook"
   ]
  },
  {
   "cell_type": "code",
   "execution_count": 25,
   "metadata": {},
   "outputs": [],
   "source": [
    "fname = 'BedMachineGreenland-2017-09-20.nc' # original sampling space: 150 m"
   ]
  },
  {
   "cell_type": "code",
   "execution_count": 26,
   "metadata": {},
   "outputs": [],
   "source": [
    "if (0):\n",
    "    FAC = 10 # resampling factor\n",
    "    tag = \"1d5km\" \n",
    "if (1):\n",
    "    FAC = 6\n",
    "    tag = \"900m\""
   ]
  },
  {
   "cell_type": "markdown",
   "metadata": {
    "collapsed": true
   },
   "source": [
    "# read  netCDF"
   ]
  },
  {
   "cell_type": "code",
   "execution_count": 27,
   "metadata": {},
   "outputs": [],
   "source": [
    "ds = xr.open_dataset(fname)\n",
    "spacing = ds.spacing"
   ]
  },
  {
   "cell_type": "markdown",
   "metadata": {},
   "source": [
    "Beware: there went something wrong with the labelling of this file!! There are two dimensions, `x` and `y`, which correspond to the \"longitudinal\" and \"latitudinal\" directions. The number of points in X is 10,218 and in Y is 18,346. However, the global attributes named `nx` and `ny` are erroneously swapped."
   ]
  },
  {
   "cell_type": "code",
   "execution_count": 28,
   "metadata": {},
   "outputs": [
    {
     "data": {
      "text/plain": [
       "(False, False)"
      ]
     },
     "execution_count": 28,
     "metadata": {},
     "output_type": "execute_result"
    }
   ],
   "source": [
    "ds.dims['x'] == ds.attrs['nx'], ds.dims['y'] == ds.attrs['ny']"
   ]
  },
  {
   "cell_type": "code",
   "execution_count": 29,
   "metadata": {},
   "outputs": [
    {
     "data": {
      "text/plain": [
       "(True, True)"
      ]
     },
     "execution_count": 29,
     "metadata": {},
     "output_type": "execute_result"
    }
   ],
   "source": [
    "ds.dims['x'] == ds.attrs['ny'], ds.dims['y'] == ds.attrs['nx']"
   ]
  },
  {
   "cell_type": "code",
   "execution_count": 30,
   "metadata": {},
   "outputs": [
    {
     "data": {
      "text/plain": [
       "('origin', -652925, -3384425)"
      ]
     },
     "execution_count": 30,
     "metadata": {},
     "output_type": "execute_result"
    }
   ],
   "source": [
    "nx = ds.dims['x'] # \"longitude\"\n",
    "ny = ds.dims['y'] # \"latitude\" \n",
    "xmin = ds.xmin\n",
    "ymin = ds.ymax - (ny-1) * spacing # y is decreasing in Bedmachine2. We change to increasing\n",
    "'origin', xmin, ymin "
   ]
  },
  {
   "cell_type": "code",
   "execution_count": 31,
   "metadata": {},
   "outputs": [
    {
     "data": {
      "text/plain": [
       "OrderedDict([('Conventions', 'CF-1.6'),\n",
       "             ('Metadata_Conventions',\n",
       "              'CF-1.6, Unidata Dataset Discovery v1.0, GDS v2.0'),\n",
       "             ('title', 'BedMachine Greenland'),\n",
       "             ('summary',\n",
       "              'self-consistent bed/bathymetry/surface/thickness/mask dataset of the Greenland ice sheet based on mass conservation, ice penetrating radar data and bathymetry data'),\n",
       "             ('keywords',\n",
       "              '0720 Glaciers, 0726 Ice sheets, 0730 Ice streams, 0794 Instruments and techniques, 0798 Modeling'),\n",
       "             ('keywords_vocabulary', 'AGU Index Terms'),\n",
       "             ('author', 'Mathieu Morlighem'),\n",
       "             ('creator_name', 'Mathieu Morlighem'),\n",
       "             ('creator_email', 'mathieu.morlighem@uci.edu'),\n",
       "             ('institution',\n",
       "              'Department of Earth System Science, University of California Irvine'),\n",
       "             ('date_created', '20-Sep-2017 09:03:04'),\n",
       "             ('product_version', 'v3.10'),\n",
       "             ('cdm_data_type', 'Grid'),\n",
       "             ('nx', 18346.0),\n",
       "             ('ny', 10218.0),\n",
       "             ('Projection', 'Polar Stereographic North (70N, 45W)'),\n",
       "             ('proj4', '+init=epsg:3413'),\n",
       "             ('xmin', -652925),\n",
       "             ('ymax', -632675),\n",
       "             ('spacing', 150),\n",
       "             ('no_data', -9999.0),\n",
       "             ('license', 'No restrictions on access or use'),\n",
       "             ('Data_citation',\n",
       "              'Morlighem M. et al., (2017), BedMachine v3: Complete bed topography and ocean bathymetry mapping of Greenland from multi-beam echo sounding combined with mass conservation, Geophys. Res. Lett., 44, doi:10.1002/2017GL074954. (http://onlinelibrary.wiley.com/doi/10.1002/2017GL074954/full)')])"
      ]
     },
     "execution_count": 31,
     "metadata": {},
     "output_type": "execute_result"
    }
   ],
   "source": [
    "ds.attrs"
   ]
  },
  {
   "cell_type": "markdown",
   "metadata": {},
   "source": [
    "# Using affine and projections to obtain lat/lon "
   ]
  },
  {
   "cell_type": "code",
   "execution_count": 32,
   "metadata": {},
   "outputs": [],
   "source": [
    "mycrs = rasterio.crs.CRS({'init': 'epsg:3413'}) # hardcoded, must be same as in NetCDF\n",
    "p1 = Proj(mycrs)"
   ]
  },
  {
   "cell_type": "code",
   "execution_count": 33,
   "metadata": {},
   "outputs": [
    {
     "data": {
      "text/plain": [
       "Affine(900.0, 0.0, -652925.0,\n",
       "       0.0, 900.0, -3384425.0)"
      ]
     },
     "execution_count": 33,
     "metadata": {},
     "output_type": "execute_result"
    }
   ],
   "source": [
    "T0 = Affine(FAC*spacing,0,xmin,0,FAC*spacing,ymin)\n",
    "T0"
   ]
  },
  {
   "cell_type": "code",
   "execution_count": 34,
   "metadata": {},
   "outputs": [
    {
     "data": {
      "text/plain": [
       "(18346, 10218)"
      ]
     },
     "execution_count": 34,
     "metadata": {},
     "output_type": "execute_result"
    }
   ],
   "source": [
    "ds['surface'].shape # ordering is y,x"
   ]
  },
  {
   "cell_type": "code",
   "execution_count": 35,
   "metadata": {},
   "outputs": [
    {
     "name": "stdout",
     "output_type": "stream",
     "text": [
      "(3058, 1703)\n",
      "(3058, 1703)\n"
     ]
    }
   ],
   "source": [
    "A = ds['surface'].values[::FAC,::FAC]\n",
    "print(A.shape)\n",
    "\n",
    "# All rows and columns\n",
    "cols, rows = np.meshgrid(np.arange(A.shape[1]), np.arange(A.shape[0]))\n",
    "\n",
    "# Get affine transform for pixel centres\n",
    "T1 = T0 * Affine.translation(0.5, 0.5)\n",
    "\n",
    "# Function to convert pixel row/column index (from 0) to easting/northing at centre\n",
    "rc2en = lambda r, c: (c, r) * T1\n",
    "\n",
    "# All eastings and northings (there is probably a faster way to do this)\n",
    "eastings, northings = np.vectorize(rc2en, otypes=[np.float, np.float])(rows, cols)\n",
    "\n",
    "# Project all longitudes, latitudes\n",
    "p2 = Proj(proj='latlong',datum='WGS84')\n",
    "longs, lats = transform(p1, p2, eastings, northings)\n",
    "print(lats.shape)"
   ]
  },
  {
   "cell_type": "code",
   "execution_count": 36,
   "metadata": {},
   "outputs": [
    {
     "data": {
      "image/png": "[encoded data removed]",
      "text/plain": [
       "<matplotlib.figure.Figure at 0x1257f1978>"
      ]
     },
     "metadata": {},
     "output_type": "display_data"
    }
   ],
   "source": [
    "fig, ax = plt.subplots(figsize=(9, 9), subplot_kw=dict(projection=ccrs.epsg(3413)))\n",
    "img = ax.imshow(longs, origin='lower')\n",
    "cb = fig.colorbar(img, ax=ax)"
   ]
  },
  {
   "cell_type": "markdown",
   "metadata": {},
   "source": [
    "# Export as NetCDF"
   ]
  },
  {
   "cell_type": "code",
   "execution_count": 47,
   "metadata": {},
   "outputs": [],
   "source": [
    "ds2 = xr.Dataset(\n",
    "        {'topography': (['y','x'], A[::-1,:]) }, # Change y dimension from decreasing to increasing\n",
    "    coords={'lon':(['y','x'], longs), \n",
    "            'lat':(['y','x'], lats)\n",
    "           }\n",
    ")\n",
    "ds2.variables['topography'].attrs['long_name'] = \"topographic height\"\n",
    "ds2.variables['topography'].attrs['units'] = \"m\"\n",
    "\n",
    "ds2.variables['lat'].attrs['long_name'] = \"latitude\"\n",
    "ds2.variables['lat'].attrs['units'] = \"degree_north\"\n",
    "ds2.variables['lat'].attrs['_FillValue'] = 9.969209968386869e+36\n",
    "ds2.variables['lat'].attrs['axis'] = \"Y\"\n",
    "\n",
    "ds2.variables['lon'].attrs['long_name'] = \"longitude\"\n",
    "ds2.variables['lon'].attrs['units'] = \"degree_east\"\n",
    "ds2.variables['lon'].attrs['_FillValue'] = 9.969209968386869e+36\n",
    "ds2.variables['lon'].attrs['axis'] = \"X\"\n",
    "\n",
    "ds2.attrs['title'] = 'GIMP topography, converted from Bedmachine Greenland (%s)' % fname.split('/')[-1]\n",
    "ds2.attrs['nx'] = str(A.shape[1])\n",
    "ds2.attrs['ny'] = str(A.shape[0])\n",
    "ds2.attrs['spacing'] = str(FAC*spacing)\n",
    "ds2.attrs['xmin'] = str(xmin)\n",
    "ds2.attrs['ymin'] = str(ymin)\n",
    "\n",
    "# copy attributes from original\n",
    "attrs_cp = 'product_version', 'cdm_data_type', 'Projection', 'proj4', 'no_data', 'license', 'Data_citation'\n",
    "for attr in attrs_cp:\n",
    "    ds2.attrs[attr] = ds.attrs[attr]"
   ]
  },
  {
   "cell_type": "code",
   "execution_count": 48,
   "metadata": {},
   "outputs": [],
   "source": [
    "ds2.variables['topography'].encoding = {'dtype': 'float32', '_FillValue': 9.96921e+36}"
   ]
  },
  {
   "cell_type": "code",
   "execution_count": 49,
   "metadata": {},
   "outputs": [],
   "source": [
    "ds2.to_netcdf('BM_%s_topo.nc' % tag)"
   ]
  },
  {
   "cell_type": "code",
   "execution_count": null,
   "metadata": {},
   "outputs": [],
   "source": []
  }
 ],
 "metadata": {
  "kernelspec": {
   "display_name": "Python [conda env:python3gdal]",
   "language": "python",
   "name": "conda-env-python3gdal-py"
  },
  "language_info": {
   "codemirror_mode": {
    "name": "ipython",
    "version": 3
   },
   "file_extension": ".py",
   "mimetype": "text/x-python",
   "name": "python",
   "nbconvert_exporter": "python",
   "pygments_lexer": "ipython3",
   "version": "3.6.4"
  }
 },
 "nbformat": 4,
 "nbformat_minor": 2
}
